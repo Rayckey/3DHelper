{
  "cells": [
    {
      "cell_type": "markdown",
      "metadata": {
        "id": "view-in-github",
        "colab_type": "text"
      },
      "source": [
        "<a href=\"https://colab.research.google.com/github/Rayckey/3DHelper/blob/master/Lab_1_Feedback_Loops_and_Oscillations.ipynb\" target=\"_parent\"><img src=\"https://colab.research.google.com/assets/colab-badge.svg\" alt=\"Open In Colab\"/></a>"
      ]
    },
    {
      "cell_type": "markdown",
      "id": "478fc382",
      "metadata": {
        "id": "478fc382"
      },
      "source": [
        "Throughout this course, you have seen systems that oscillate. The\n",
        "purpose of this lab is to take a closer look at such systems and to\n",
        "review important Python functions used for simulation and plotting."
      ]
    },
    {
      "cell_type": "markdown",
      "id": "c483a3fb",
      "metadata": {
        "id": "c483a3fb"
      },
      "source": [
        "# A Predator-Prey Model\n",
        "\n",
        "Previously, we studied and simulated the Lotka-Volterra predator-prey\n",
        "model (which you initially saw as the \"shark-tuba model\"). Now, we will study a different predator-prey model, termed the Holling-Tanner model, that incorporates somewhat different (and more realistic) biological assumptions.\n",
        "\n",
        "As before, we will call our prey population $N$ and our predator\n",
        "population $P$. We will assume that, in the absence of predators, the\n",
        "prey population would grow logistically. The expression for this is the familiar\n",
        "$rN(1-\\frac{N}{k})$.\n",
        "\n",
        "We also want an individual predator’s consumption rate to plateau as $N$\n",
        "increases so that there is a limit to how much predators can eat. This\n",
        "can be done with the function $f(N)=\\frac{C_{max}N}{N+h}$, where\n",
        "$C_{max}$ is a predator’s maximum consumption rate and $h$ is the\n",
        "half-saturation density, the prey density at which consumption is half\n",
        "the maximum rate."
      ]
    },
    {
      "cell_type": "markdown",
      "source": [
        "We can make plots by using `np.linspace` to generate a set of x values and then writing a formula for the y values. We then use the pyplot function `plot` to generate the plot. Here is an example that plots $f(X) = \\frac{X^4}{625+X^4}$."
      ],
      "metadata": {
        "id": "3yXvbfCx-3KW"
      },
      "id": "3yXvbfCx-3KW"
    },
    {
      "cell_type": "code",
      "source": [
        "import matplotlib.pyplot as plt\n",
        "import numpy as np\n",
        "x= np.linspace(0,20,10000)\n",
        "y = (x**4)/(625+ x**4)\n",
        "\n",
        "plt.plot(x,y)\n",
        "plt.xlabel(\"X\")\n",
        "plt.ylabel(\"Y\")\n",
        "plt.show()"
      ],
      "metadata": {
        "colab": {
          "base_uri": "https://localhost:8080/",
          "height": 449
        },
        "id": "u5d8ytSD-pee",
        "outputId": "21fc7f8f-2030-4e15-b446-43cac38645fe"
      },
      "id": "u5d8ytSD-pee",
      "execution_count": null,
      "outputs": [
        {
          "output_type": "display_data",
          "data": {
            "text/plain": [
              "<Figure size 640x480 with 1 Axes>"
            ],
            "image/png": "[encoded data removed]"
          },
          "metadata": {}
        }
      ]
    },
    {
      "cell_type": "markdown",
      "id": "b9c4d17d",
      "metadata": {
        "id": "b9c4d17d"
      },
      "source": [
        "<font color='green'><u><b> Exercise 1.</b></u></font> Plot $\\frac{C_{max}N}{N+h}$ for different values of $C_{max}$ and\n",
        "$h$ (at least two values per parameter), changing one value at a time. $N$ values ranging up to 5 work well. You can put your plots on the same or different axes, but make sure to label which graph is which. Also, label your axes."
      ]
    },
    {
      "cell_type": "code",
      "source": [
        "#write code here"
      ],
      "metadata": {
        "id": "mT4hWDRp-cgf"
      },
      "id": "mT4hWDRp-cgf",
      "execution_count": null,
      "outputs": []
    },
    {
      "cell_type": "markdown",
      "source": [
        "<font color='green'><u><b> Exercise 2.</b></u></font> Briefly describe how $C_{max}$ and $h$ affect the function."
      ],
      "metadata": {
        "id": "tQp5bhC8btSL"
      },
      "id": "tQp5bhC8btSL"
    },
    {
      "cell_type": "code",
      "source": [
        "#write text here"
      ],
      "metadata": {
        "id": "52XKXka9b8dS"
      },
      "id": "52XKXka9b8dS",
      "execution_count": null,
      "outputs": []
    },
    {
      "cell_type": "markdown",
      "id": "09215369",
      "metadata": {
        "id": "09215369"
      },
      "source": [
        "We will assume that the predator population also grows logistically.\n",
        "However, its carrying capacity is set by the prey population. We then\n",
        "have the system of equations $$N'=r_{1}N(1-\\frac{N}{K})-\\frac{wN}{D+N}P$$\n",
        "$$P'=r_{2}P(1-\\frac{PJ}{N}).$$ You will now study the dynamics of this model."
      ]
    },
    {
      "cell_type": "markdown",
      "id": "6ad9c2db",
      "metadata": {
        "id": "6ad9c2db"
      },
      "source": [
        "<font color='green'><u><b> Exercise 3.</b></u></font> Using `sympy.abc`,  make $N$ and $P$ available as symbolic variables. Assign the following values to the model’s parameters: $r_{1}=1$, $r_{2}=0.1$ $K=7$, $D=1$, $J=1$, and $w=0.3$. Then, type out the change equations and assign them to variables."
      ]
    },
    {
      "cell_type": "code",
      "source": [
        "#write code here"
      ],
      "metadata": {
        "id": "T3hCzYBuB4Uh"
      },
      "id": "T3hCzYBuB4Uh",
      "execution_count": null,
      "outputs": []
    },
    {
      "cell_type": "markdown",
      "source": [
        "We can generate a vector field for this system using the `quiver` function from `PyPlot`. This gives an overall picture of its behavior."
      ],
      "metadata": {
        "id": "wAFG8i58D325"
      },
      "id": "wAFG8i58D325"
    },
    {
      "cell_type": "markdown",
      "id": "2f89c3e0",
      "metadata": {
        "id": "2f89c3e0"
      },
      "source": [
        "<font color='green'><u><b> Exercise 4.</b></u></font> Copy your parameter values and change equations into the cell below and fill in the other blanks to view the vector field. Make sure your axes are correctly labeled."
      ]
    },
    {
      "cell_type": "code",
      "source": [
        "#Create a grid of N and P values to determine where to put change vectors\n",
        "N, P = np.meshgrid(np.linspace(0.1, 10, 20), np.linspace(0.1, 10, 20))\n",
        "\n",
        "\n",
        "#Copy parameter values and change equations here\n",
        "\n",
        "\n",
        "#Plotting code\n",
        "plt.quiver(N, P, Nprime, Pprime, color=\"g\")\n",
        "plt.xlabel(\"__XLABEL__\")\n",
        "plt.ylabel(\"__YLABEL__\")\n",
        "plt.show()"
      ],
      "metadata": {
        "id": "QkdPq8tbAZzt"
      },
      "id": "QkdPq8tbAZzt",
      "execution_count": null,
      "outputs": []
    },
    {
      "cell_type": "markdown",
      "source": [
        "<font color='green'><u><b> Exercise 5.</b></u></font> Why did we start plotting at 0.1 instead of 0? HINT: Look at the change equations."
      ],
      "metadata": {
        "id": "iNae-pQyE55K"
      },
      "id": "iNae-pQyE55K"
    },
    {
      "cell_type": "code",
      "source": [
        "#Explain here"
      ],
      "metadata": {
        "id": "wN67LfKqE1V9"
      },
      "id": "wN67LfKqE1V9",
      "execution_count": null,
      "outputs": []
    },
    {
      "cell_type": "markdown",
      "id": "9295e8b7",
      "metadata": {
        "id": "9295e8b7"
      },
      "source": [
        "To simulate a system of differential equations, we need to use the\n",
        "function `odeint` from `scipy.integrate`. As you may recall from LS 30A, your code will need to include the following components.\n",
        "\n",
        "1.   Import `odeint` from `scipy.integrate`.\n",
        "2.   Write a function that takes in state values and a list of times and generates a list of the rates of change of all our state variables.\n",
        "3.   Use `odeint` to run the simulation, giving it the change equation function, initial values, and time steps as inputs.\n",
        "4.   Plot the results as a time series or trajectory.\n",
        "\n"
      ]
    },
    {
      "cell_type": "markdown",
      "source": [
        "Here is an example that simulates a Lotka-Volterra predator-prey system (which we often call \"shark-tuna\" in LS 30) and plots a time series of the result.\n",
        "\n",
        "\n",
        "```\n",
        "import numpy as np\n",
        "import matplotlib.pyplot as plt\n",
        "from scipy.integrate import odeint\n",
        "\n",
        "#parameters\n",
        "br=0.6\n",
        "dr=0.5\n",
        "beta=0.04\n",
        "\n",
        "#change equations\n",
        "def odes(state_values, t):\n",
        "  T, S = state_values\n",
        "  Tprime= br*T - beta*S*T\n",
        "  Sprime= beta*S*T - dr*S\n",
        "  return [Tprime, Sprime]\n",
        "\n",
        "#the simulation itself\n",
        "t=np.linspace(0,100,1000) #time values\n",
        "sv = [16,30] #initial values\n",
        "sol=odeint(odes, sv, t) #simulates the model\n",
        "\n",
        "#plotting\n",
        "plt.plot(t, sol[:,0], label=\"Tuna\", color=\"blue\") #plot the tuna\n",
        "plt.plot(t, sol[:,1], label=\"Sharks\", color=\"red\") #plot the sharks\n",
        "plt.legend(loc='best')\n",
        "plt.xlabel(\"Time\")\n",
        "plt.ylabel(\"Populations\")\n",
        "plt.show()\n",
        "```"
      ],
      "metadata": {
        "id": "AoaH7nEYGbAv"
      },
      "id": "AoaH7nEYGbAv"
    },
    {
      "cell_type": "markdown",
      "id": "b4a501d6",
      "metadata": {
        "id": "b4a501d6"
      },
      "source": [
        "<font color='green'><u><b> Exercise 6.</b></u></font>  Simulate the Lotka-Volterra model in the example for at least two different initial conditions and plot the time series. **NOTE:** In this exercise and all others where you have to plot multiple simulation results, assign each to a different variable (`sol1=odeint(odes, sv1, t)`, `sol2`=odeint(odes, sv2, t), ...) so you can use them all later."
      ]
    },
    {
      "cell_type": "code",
      "source": [
        "#run Lotka-Volterra model in example"
      ],
      "metadata": {
        "id": "kIn0Z4kqPxn5"
      },
      "id": "kIn0Z4kqPxn5",
      "execution_count": null,
      "outputs": []
    },
    {
      "cell_type": "markdown",
      "id": "5018c656",
      "metadata": {
        "id": "5018c656"
      },
      "source": [
        "<font color='green'><u><b> Exercise 7.</b></u></font>  Do the same thing for the Holling-Tanner model described in this lab. For your convenience, the equations are\n",
        "\n",
        "$$N'=r_{1}N(1-\\frac{N}{K})-\\frac{wN}{D+N}P$$\n",
        "$$P'=r_{2}P(1-\\frac{PJ}{N})$$\n",
        "\n",
        "with  $r_{1}=1$, $r_{2}=0.1$ $K=7$, $D=1$, $J=1$, and $w=0.3$.\n",
        "\n",
        "Try at least two different initial conditions (relatively close to the ones provided for the Lotka-Volterra model)."
      ]
    },
    {
      "cell_type": "code",
      "source": [
        "#simulate Holling-Tanner model defined above"
      ],
      "metadata": {
        "id": "WRDzvpEsPyqI"
      },
      "id": "WRDzvpEsPyqI",
      "execution_count": null,
      "outputs": []
    },
    {
      "cell_type": "markdown",
      "id": "1bfda092",
      "metadata": {
        "id": "1bfda092"
      },
      "source": [
        "<font color='green'><u><b> Exercise 8.</b></u></font> Plot trajectories for both the Lotka-Volterra and the Holling-Tanner models."
      ]
    },
    {
      "cell_type": "code",
      "source": [
        "#plot trajectories"
      ],
      "metadata": {
        "id": "Ois6KNu_P0VY"
      },
      "id": "Ois6KNu_P0VY",
      "execution_count": null,
      "outputs": []
    },
    {
      "cell_type": "markdown",
      "source": [
        "<font color='green'><u><b> Exercise 9.</b></u></font> In a sentence or two, compare the behavior of the two models. How are they different?"
      ],
      "metadata": {
        "id": "Y2hbFMufybjw"
      },
      "id": "Y2hbFMufybjw"
    },
    {
      "cell_type": "code",
      "source": [
        "#write text here"
      ],
      "metadata": {
        "id": "C0j5H3dVywJP"
      },
      "id": "C0j5H3dVywJP",
      "execution_count": null,
      "outputs": []
    },
    {
      "cell_type": "markdown",
      "id": "22f4fbc2",
      "metadata": {
        "id": "22f4fbc2"
      },
      "source": [
        "As $w$ increases, the behavior of the Holling-Tanner model changes."
      ]
    },
    {
      "cell_type": "markdown",
      "id": "c4f7ee8e",
      "metadata": {
        "id": "c4f7ee8e"
      },
      "source": [
        "<font color='green'><u><b> Exercise 10.</b></u></font> Set $w$ to 1 and simulate the Holling-Tanner model for three different initial conditions. Pick at least one initial condition near (2,2) and at least one relatively far away. Plot a time series for each."
      ]
    },
    {
      "cell_type": "code",
      "source": [
        "#simulate with w=1 for 3 initial conditions & plot time series"
      ],
      "metadata": {
        "id": "yOQbsH0EP1OC"
      },
      "id": "yOQbsH0EP1OC",
      "execution_count": null,
      "outputs": []
    },
    {
      "cell_type": "markdown",
      "source": [
        "<font color='green'><u><b> Exercise 11.</b></u></font> Describe what you observe in the time series. How are they different from the ones generated with $w=0.3$?"
      ],
      "metadata": {
        "id": "ALUftAmlzUWW"
      },
      "id": "ALUftAmlzUWW"
    },
    {
      "cell_type": "code",
      "source": [
        "#write text here"
      ],
      "metadata": {
        "id": "eKwARWqez368"
      },
      "id": "eKwARWqez368",
      "execution_count": null,
      "outputs": []
    },
    {
      "cell_type": "markdown",
      "id": "20bb4810",
      "metadata": {
        "id": "20bb4810"
      },
      "source": [
        "<font color='green'><u><b> Exercise 12.</b></u></font> Plot a vector field for the Holling-Tanner model with $w=1$. Then, plot trajectories from your simulations and overlay them on the vector field."
      ]
    },
    {
      "cell_type": "code",
      "source": [
        "#plot vector field with trajectories on top"
      ],
      "metadata": {
        "id": "Sb98GdqKP2ES"
      },
      "id": "Sb98GdqKP2ES",
      "execution_count": null,
      "outputs": []
    },
    {
      "cell_type": "markdown",
      "source": [
        "<font color='green'><u><b> Exercise 13.</b></u></font> Compare these trajectories to both the ones for Lotka-Volterra and the ones from Holling-Tanner with $w=0.3$. For each, describe the key differences. Make sure to comment on how different initial conditions affect model behavior."
      ],
      "metadata": {
        "id": "L8LhgjuS1NaV"
      },
      "id": "L8LhgjuS1NaV"
    },
    {
      "cell_type": "code",
      "source": [
        "#write text here"
      ],
      "metadata": {
        "id": "q1mjkoxL1MpM"
      },
      "id": "q1mjkoxL1MpM",
      "execution_count": null,
      "outputs": []
    }
  ],
  "metadata": {
    "kernelspec": {
      "display_name": "Python 3 (ipykernel)",
      "language": "python",
      "name": "python3"
    },
    "language_info": {
      "codemirror_mode": {
        "name": "ipython",
        "version": 3
      },
      "file_extension": ".py",
      "mimetype": "text/x-python",
      "name": "python",
      "nbconvert_exporter": "python",
      "pygments_lexer": "ipython3",
      "version": "3.10.12"
    },
    "colab": {
      "provenance": [],
      "include_colab_link": true
    }
  },
  "nbformat": 4,
  "nbformat_minor": 5
}