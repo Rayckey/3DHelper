{
  "cells": [
    {
      "cell_type": "markdown",
      "metadata": {
        "id": "view-in-github",
        "colab_type": "text"
      },
      "source": [
        "<a href=\"https://colab.research.google.com/github/Rayckey/3DHelper/blob/master/Lab_2_DDE_oscillations.ipynb\" target=\"_parent\"><img src=\"https://colab.research.google.com/assets/colab-badge.svg\" alt=\"Open In Colab\"/></a>"
      ]
    },
    {
      "cell_type": "markdown",
      "source": [
        "#**Lab 2: Oscillations in Delay Differential Equations**"
      ],
      "metadata": {
        "id": "4gt3JBz-eS_e"
      },
      "id": "4gt3JBz-eS_e"
    },
    {
      "cell_type": "markdown",
      "id": "f4cc65d3",
      "metadata": {
        "id": "f4cc65d3"
      },
      "source": [
        "Along with sensitive negative feedback, time delays are a critical ingredient\n",
        "in causing oscillations in dynamical systems. Without any delays, even\n",
        "the most sensitive feedback cannot produce oscillations in a system of\n",
        "differential equations of the kind we study in this class.\n",
        "\n",
        "Delays in a model can be either implicit (arising from the structure of\n",
        "the model, particularly the number of variables) or explicit. Explicit\n",
        "delays occur when a term in a differential equation is a function of the\n",
        "value of the state variable some time ago. For example, we might have\n",
        "$X'(t)=2X(t-5)$, where $X(t-5)$ is the value of $X$ 5 time units before\n",
        "the present time. Such equations, which explicitly include time delays,\n",
        "are called **delay differential equations**."
      ]
    },
    {
      "cell_type": "code",
      "source": [
        "import numpy as np\n",
        "import matplotlib.pyplot as plt"
      ],
      "metadata": {
        "id": "fX-uqLJ17moz"
      },
      "id": "fX-uqLJ17moz",
      "execution_count": null,
      "outputs": []
    },
    {
      "cell_type": "markdown",
      "id": "c98a6ecc",
      "metadata": {
        "id": "c98a6ecc"
      },
      "source": [
        "# Simulating Delay Differential Equations\n",
        "\n",
        "In order to simulate a delay differential equation, we have to find the\n",
        "value of $x$ $\\tau$ time units ago, plug this value into the equation,\n",
        "and then integrate one time step, just as we did with Euler’s method.\n",
        "The `ddeint` library (given below because the version available online\n",
        "doesn't work with current versions of Numpy and Scipy) carries out this process."
      ]
    },
    {
      "cell_type": "markdown",
      "id": "1dcff56f",
      "metadata": {
        "id": "1dcff56f"
      },
      "source": [
        "<font color='green'><u><b> Exercise 1.</b></u> </font> Evaluate the cell below. Nothing visible will happen when you do."
      ]
    },
    {
      "cell_type": "code",
      "source": [
        "# @title Run `ddeint` (simple Differential Delay Equation solver built on top of Scipy's odeint) {display-mode:'form'}\n",
        "\"\"\"\n",
        "This module implements ddeint, a simple Differential Delay Equation\n",
        "solver built on top of Scipy's odeint \"\"\"\n",
        "\n",
        "# REQUIRES Numpy and Scipy.\n",
        "import numpy as np\n",
        "import scipy.integrate\n",
        "import scipy.interpolate\n",
        "\n",
        "\n",
        "class ddeVar:\n",
        "    \"\"\"\n",
        "    The instances of this class are special function-like\n",
        "    variables which store their past values in an interpolator and\n",
        "    can be called for any past time: Y(t), Y(t-d).\n",
        "    Very convenient for the integration of DDEs.\n",
        "    \"\"\"\n",
        "\n",
        "    def __init__(self, g, tc=0):\n",
        "        \"\"\" g(t) = expression of Y(t) for t<tc \"\"\"\n",
        "\n",
        "        self.g = g\n",
        "        self.tc = tc\n",
        "        # We must fill the interpolator with 2 points minimum\n",
        "\n",
        "        self.interpolator = scipy.interpolate.interp1d(\n",
        "            np.array([tc - 1, tc]),  # X\n",
        "            np.array([self.g(tc), self.g(tc)]).T,  # Y\n",
        "            kind=\"linear\",\n",
        "            bounds_error=False,\n",
        "            fill_value=self.g(tc)\n",
        "        )\n",
        "\n",
        "    def update(self, t, Y):\n",
        "        \"\"\" Add one new (ti,yi) to the interpolator \"\"\"\n",
        "        Y2 = Y if (Y.size == 1) else np.array([Y]).T\n",
        "        self.interpolator = scipy.interpolate.interp1d(\n",
        "            np.hstack([self.interpolator.x, [t]]),  # X\n",
        "            np.hstack([self.interpolator.y, Y2]),  # Y\n",
        "            kind=\"linear\",\n",
        "            bounds_error=False,\n",
        "            fill_value=Y\n",
        "        )\n",
        "\n",
        "    def __call__(self, t=0):\n",
        "        \"\"\" Y(t) will return the instance's value at time t \"\"\"\n",
        "\n",
        "        return self.g(t) if (t <= self.tc) else self.interpolator(t)\n",
        "\n",
        "\n",
        "class dde(scipy.integrate.ode):\n",
        "    \"\"\"\n",
        "    This class overwrites a few functions of ``scipy.integrate.ode``\n",
        "    to allow for updates of the pseudo-variable Y between each\n",
        "    integration step.\n",
        "    \"\"\"\n",
        "\n",
        "    def __init__(self, f, jac=None):\n",
        "        def f2(t, y, args):\n",
        "            return f(self.Y, t, *args)\n",
        "\n",
        "        scipy.integrate.ode.__init__(self, f2, jac)\n",
        "        self.set_f_params(None)\n",
        "\n",
        "    def integrate(self, t, step=0, relax=0):\n",
        "\n",
        "        scipy.integrate.ode.integrate(self, t, step, relax)\n",
        "        self.Y.update(self.t, self.y)\n",
        "        return self.y\n",
        "\n",
        "    def set_initial_value(self, Y):\n",
        "\n",
        "        self.Y = Y  #!!! Y will be modified during integration\n",
        "        scipy.integrate.ode.set_initial_value(self, Y(Y.tc), Y.tc)\n",
        "\n",
        "def ddeint(func, g, tt, fargs=None):\n",
        "    \"\"\" Solves Delay Differential Equations\n",
        "\n",
        "    Similar to scipy.integrate.odeint. Solves a Delay differential\n",
        "    Equation system (DDE) defined by\n",
        "\n",
        "        Y(t) = g(t) for t<0\n",
        "        Y'(t) = func(Y,t) for t>= 0\n",
        "\n",
        "    Where func can involve past values of Y, like Y(t-d).\n",
        "ValueError: setting an array element with a sequence\n",
        "      systems).\n",
        "\n",
        "    tt\n",
        "      The vector of times [t0, t1, ...] at which the system must\n",
        "      be solved.\n",
        "ValueError: setting an array element with a sequence\n",
        "    fargs\n",
        "      Additional arguments to be passed to parameter ``func``, if any.\n",
        "\n",
        "\n",
        "    Examples\n",
        "    ---------\n",
        "\n",
        "    We will solve the delayed Lotka-Volterra system defined as\n",
        "\n",
        "        For t < 0:\n",
        "        x(t) = 1+t\n",
        "        y(t) = 2-t\n",
        "\n",
        "        For t >= 0:\n",
        "        dx/dt =  0.5* ( 1- y(t-d) )\n",
        "        dy/dt = -0.5* ( 1- x(t-d) )\n",
        "\n",
        "    The delay ``d`` is a tunable parameter of the model.\n",
        "\n",
        "    >>> import numpy as np\n",
        "    >>> from ddeint import ddeint\n",
        "    >>>\n",
        "    >>> def model(XY,t,d):\n",
        "    >>>     x, y = XY(t)\n",
        "    >>>     xd, yd = XY(t-d)\n",
        "    >>>     return np.array([0.5*x*(1-yd), -0.5*y*(1-xd)])\n",
        "    >>>\n",
        "    >>> g = lambda t : np.array([1+t,2-t]) # 'history' at t<0\n",
        "    >>> tt = np.linspace(0,30,20000) # times for integration\n",
        "    >>> d = 0.5 # set parameter d \")\n",
        "    >>> yy = ddeint(model,g,tt,fargs=(d,)) # solve the DDE !\n",
        "\n",
        "    \"\"\"\n",
        "\n",
        "    dde_ = dde(func)\n",
        "    dde_.set_initial_value(ddeVar(g, tt[0]))\n",
        "    dde_.set_f_params(fargs if fargs else [])\n",
        "    results = [dde_.integrate(dde_.t + dt) for dt in np.diff(tt)]\n",
        "\n",
        "    #Correct array orientation to match modern syntax and inserts\n",
        "    #initial value at beginning\n",
        "    results = np.array([results[i][0] for i in range(len(results))])\n",
        "    results = np.insert(results, 0, g(tt[0]))\n",
        "\n",
        "    return results"
      ],
      "metadata": {
        "id": "y56kunWE4M50"
      },
      "id": "y56kunWE4M50",
      "execution_count": null,
      "outputs": []
    },
    {
      "cell_type": "markdown",
      "id": "2629e279",
      "metadata": {
        "id": "2629e279"
      },
      "source": [
        "The syntax for the `ddeint` function is `sol=ddeint(DDE, history, times)`, where `history`is a function describing the state variable values before the simulation began, and `times` is a list of steps for simulation, like you made in previous labs. For example, here’s a simulation of a version of the logistic model with a time delay and an oscillating history."
      ]
    },
    {
      "cell_type": "markdown",
      "id": "b287feb5",
      "metadata": {
        "id": "b287feb5"
      },
      "source": [
        "```\n",
        "import numpy as np\n",
        "import matplotlib.pyplot as plt\n",
        "\n",
        "#Define time delay\n",
        "tau = 8\n",
        "\n",
        "#Define differential equation(s) to simulate\n",
        "def DDE(X,t):\n",
        "  Xprime = 0.1*X(t)*(1-X(t-tau)/100)\n",
        "  return Xprime\n",
        "\n",
        "#Define history function\n",
        "def history(t):\n",
        "  X = 5*np.cos(t)\n",
        "  return X\n",
        "\n",
        "#Make a list of times at which to output values and run simulation\n",
        "times = np.linspace(0, 400, 4000)\n",
        "solution = ddeint(DDE, history, times)\n",
        "\n",
        "#Plot time series\n",
        "plt.plot(times, solution)\n",
        "plt.xlabel(\"Time\")\n",
        "plt.ylabel(\"Populations\")\n",
        "plt.show()\n",
        "```\n"
      ]
    },
    {
      "cell_type": "markdown",
      "id": "ee0fcf51",
      "metadata": {
        "id": "ee0fcf51"
      },
      "source": [
        "# A Model of Respiration\n",
        "\n",
        "This lab will focus on the Mackey-Glass model of respiration described in your text and in lecture. (Similar equations are used to model delays in other physiological processes.) The purpose of this model is to study respiration rate, which can be altered in certain diseases like heart failure or stroke. However, breathing is mostly controlled by $\\textrm{CO}_{2}$ content in the blood, so we'll actually model $\\textrm{CO}_{2}$.\n",
        "\n",
        "The exact state variable in this model is the concentration of carbon dioxide\n",
        "in arterial blood _at the lungs_, which we’ll call $X$. The fact that the blood is at the lungs will soon become important.\n",
        "\n",
        "We'll make the simplifying assumption that the body’s rate of production of $\\textrm{CO}_{2}$ is a constant, which we’ll call $L$.\n",
        "\n",
        "Excretion is a little more complicated. The total $\\textrm{CO}_{2}$ exhalation rate is ($\\textrm{CO}_{2}$ / breath) $×$ (breaths / minute). The ($\\textrm{CO}_{2}$ / breath) term is proportional to the amount of $\\textrm{CO}_{2}$ in the blood, which is just $X$. For simplicity, we'll make the proportionality constant be 1.\n",
        "\n",
        "A person's breathing rate is a sigmoidal function of its concentration in the blood. The function $f(X)=\\frac{V_{max}X^{n}}{h+X^{n}}$ does the job for sufficiently large values of $n$. Thus, the overall $\\textrm{CO}_{2}$ exhalation rate is $\\frac{V_{max}X^{n}}{h+X^{n}} X$.\n",
        "\n",
        "There is one complication in this model – a delay between gas exchange\n",
        "in the lungs and the effect on $\\textrm{CO}_{2}$-monitoring neurons in\n",
        "the brain. In simple terms, it takes time for blood to get from the\n",
        "lungs to the brain. Therefore, the brain is responding not to the\n",
        "current $\\textrm{CO}_{2}$ concentration in the blood but to the\n",
        "concentration some time ago. (In the body, this delay is on the order of\n",
        "0.2 minutes.) Thus, the $\\textrm{CO}_{2}$ excretion function really\n",
        "needs to be $f(X)=\\frac{V_{max}X(t-\\tau)^{n}}{h+X(t-\\tau)^{n}} X(t)$.\n",
        "\n",
        "Putting everything together, our model is $X'(t)=L-\\frac{V_{max}X(t-\\tau)^{n}}{h+X(t-\\tau)^{n}}x(t)$. The parameter values we will use are $L=6$, $V_{max}=20$, $n=5$, $h=400$ and $\\tau=0.2$. With these parameters, our time units are minutes."
      ]
    },
    {
      "cell_type": "markdown",
      "id": "9b53d2d6",
      "metadata": {
        "id": "9b53d2d6"
      },
      "source": [
        "<font color='green'><u><b> Exercise 2.</b></u> </font> Following the example above, simulate the Mackey-Glass model for 30 minutes. Assign the output to a variable and plot your results. For the history, use a function that returns 0."
      ]
    },
    {
      "cell_type": "code",
      "source": [],
      "metadata": {
        "id": "JsZ4jBBBbpv4"
      },
      "id": "JsZ4jBBBbpv4",
      "execution_count": null,
      "outputs": []
    },
    {
      "cell_type": "markdown",
      "id": "33328119",
      "metadata": {
        "id": "33328119"
      },
      "source": [
        "<font color='green'><u><b> Exercise 3.</b></u></font> The Mackey-Glass model simulates CO<sub>2</sub> concentration, but we are interested in breathing rate. The two are linked by the function $v(X)=\\frac{V_{max}X^{n}}{h+X^{n}}$, the same function used in actually formulating the model. Use this function to\n",
        "convert your simulation results into breathing rate. (When using Numpy, you can just define a function representing the formula and apply it directly to your desired input.)"
      ]
    },
    {
      "cell_type": "code",
      "source": [],
      "metadata": {
        "id": "g6H0hWBJRRig"
      },
      "id": "g6H0hWBJRRig",
      "execution_count": null,
      "outputs": []
    },
    {
      "cell_type": "markdown",
      "id": "2a74a960",
      "metadata": {
        "id": "2a74a960"
      },
      "source": [
        "<font color='green'><u><b> Exercise 4.</b></u></font> Plot your results from the previous exercise. Make sure the time axis is appropriately scaled."
      ]
    },
    {
      "cell_type": "code",
      "source": [],
      "metadata": {
        "id": "0mWBcIM_SWYU"
      },
      "id": "0mWBcIM_SWYU",
      "execution_count": null,
      "outputs": []
    },
    {
      "cell_type": "markdown",
      "source": [
        "<font color='green'><u><b> Exercise 5.</b></u></font> Briefly describe the behavior you see in your plots."
      ],
      "metadata": {
        "id": "qnLKVCt7SW-6"
      },
      "id": "qnLKVCt7SW-6"
    },
    {
      "cell_type": "code",
      "source": [
        "#write text here"
      ],
      "metadata": {
        "id": "ymHE4bneSoi0"
      },
      "id": "ymHE4bneSoi0",
      "execution_count": null,
      "outputs": []
    },
    {
      "cell_type": "markdown",
      "id": "0dbf4d3d",
      "metadata": {
        "id": "0dbf4d3d"
      },
      "source": [
        "# Drivers of Oscillation in the Mackey-Glass Model\n",
        "\n",
        "We have said that a delay is necessary to cause persistent oscillations in the\n",
        "Mackey-Glass model, but how much of a delay? Is the mere presence of any\n",
        "delay sufficient or is there a threshold?"
      ]
    },
    {
      "cell_type": "markdown",
      "id": "cc41732a",
      "metadata": {
        "id": "cc41732a"
      },
      "source": [
        "<font color='green'><u><b> Exercise 6. </b></u></font> Simulate the model for at least three different values of $\\tau$. Since all we’re interested in is the presence or absence of oscillations, you don’t need to convert the $X$ values to breathing rate."
      ]
    },
    {
      "cell_type": "code",
      "source": [],
      "metadata": {
        "id": "e2__RWZdTTzM"
      },
      "id": "e2__RWZdTTzM",
      "execution_count": null,
      "outputs": []
    },
    {
      "cell_type": "markdown",
      "id": "66704e35",
      "metadata": {
        "id": "66704e35"
      },
      "source": [
        "<font color='green'><u><b> Exercise 7. </b></u></font> By manipulating $\\tau$, approximate the minimum delay needed for persistent oscillations."
      ]
    },
    {
      "cell_type": "code",
      "source": [],
      "metadata": {
        "id": "XYaBH0HbTUlG"
      },
      "id": "XYaBH0HbTUlG",
      "execution_count": null,
      "outputs": []
    },
    {
      "cell_type": "markdown",
      "id": "d0210165",
      "metadata": {
        "id": "d0210165"
      },
      "source": [
        "The other key ingredient in oscillations is a sensitive negative\n",
        "feedback loop. Again, we are interested in the question of how much\n",
        "sensitivity is necessary to produce persistent oscillations."
      ]
    },
    {
      "cell_type": "markdown",
      "id": "b4b6c09e",
      "metadata": {
        "id": "b4b6c09e"
      },
      "source": [
        "<font color='green'><u><b> Exercise 8. </b></u></font> “Sensitivity” in the Mackey-Glass model is embodied in the steepness of the sigmoid function controlling respiration. Which parameter controls this steepness? If you’re not sure, plot the function and manipulate parameters to check."
      ]
    },
    {
      "cell_type": "code",
      "source": [
        "#write text and/or code here"
      ],
      "metadata": {
        "id": "dOoJZALDhHQg"
      },
      "id": "dOoJZALDhHQg",
      "execution_count": null,
      "outputs": []
    },
    {
      "cell_type": "markdown",
      "id": "ad441bab",
      "metadata": {
        "id": "ad441bab"
      },
      "source": [
        "<font color='green'><u><b> Exercise 9. </b></u></font> Copy your code from Exercise 7 and set $\\tau$ to the minimum value you found to generate oscillations. Manipulate your sensitivity parameter to find the minimum sensitivity at which persistent oscillations appear."
      ]
    },
    {
      "cell_type": "code",
      "source": [],
      "metadata": {
        "id": "WsYk4OPfhnow"
      },
      "id": "WsYk4OPfhnow",
      "execution_count": null,
      "outputs": []
    },
    {
      "cell_type": "markdown",
      "id": "25eb300c",
      "metadata": {
        "id": "25eb300c"
      },
      "source": [
        "Manipulating parameters together can have very different effects from\n",
        "manipulating them separately."
      ]
    },
    {
      "cell_type": "markdown",
      "id": "42a14256-91c8-446e-92a7-ab6bf11055d3",
      "metadata": {
        "id": "42a14256-91c8-446e-92a7-ab6bf11055d3"
      },
      "source": [
        "<font color='green'><u><b> Exercise 10. </b></u></font> Pick at least five values of $\\tau$ and, for each one, approximate the minimum sensitivity necessary for persistent oscillations. Make lists of these values and plot one list against the other using `plt.scatter`."
      ]
    },
    {
      "cell_type": "code",
      "execution_count": null,
      "id": "2ba04307",
      "metadata": {
        "id": "2ba04307"
      },
      "outputs": [],
      "source": []
    },
    {
      "cell_type": "markdown",
      "source": [
        "<font color='green'><u><b> Exercise 11. </b></u></font> Describe the relationship you found in the previous exercise."
      ],
      "metadata": {
        "id": "kmUHi2owiPtw"
      },
      "id": "kmUHi2owiPtw"
    },
    {
      "cell_type": "code",
      "source": [
        "#write text here"
      ],
      "metadata": {
        "id": "GXz4LcL6iyFp"
      },
      "id": "GXz4LcL6iyFp",
      "execution_count": null,
      "outputs": []
    }
  ],
  "metadata": {
    "kernelspec": {
      "display_name": "Python 3 (ipykernel)",
      "language": "python",
      "name": "python3"
    },
    "language_info": {
      "codemirror_mode": {
        "name": "ipython",
        "version": 3
      },
      "file_extension": ".py",
      "mimetype": "text/x-python",
      "name": "python",
      "nbconvert_exporter": "python",
      "pygments_lexer": "ipython3",
      "version": "3.10.12"
    },
    "colab": {
      "provenance": [],
      "include_colab_link": true
    }
  },
  "nbformat": 4,
  "nbformat_minor": 5
}