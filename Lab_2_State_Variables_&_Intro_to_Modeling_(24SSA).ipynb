{
  "nbformat": 4,
  "nbformat_minor": 0,
  "metadata": {
    "colab": {
      "provenance": [],
      "include_colab_link": true
    },
    "kernelspec": {
      "name": "python3",
      "display_name": "Python 3"
    },
    "language_info": {
      "name": "python"
    }
  },
  "cells": [
    {
      "cell_type": "markdown",
      "metadata": {
        "id": "view-in-github",
        "colab_type": "text"
      },
      "source": [
        "<a href=\"https://colab.research.google.com/github/Rayckey/3DHelper/blob/master/Lab_2_State_Variables_%26_Intro_to_Modeling_(24SSA).ipynb\" target=\"_parent\"><img src=\"https://colab.research.google.com/assets/colab-badge.svg\" alt=\"Open In Colab\"/></a>"
      ]
    },
    {
      "cell_type": "markdown",
      "source": [
        "# **Lab 2: State Variables and Introduction to Modeling**"
      ],
      "metadata": {
        "id": "MEXxAWtnP6cS"
      }
    },
    {
      "cell_type": "markdown",
      "source": [
        "#General Instructions#"
      ],
      "metadata": {
        "id": "BTp80Qbm74N1"
      }
    },
    {
      "cell_type": "markdown",
      "source": [
        "*   To edit this lab, use File menu (in Colab) > \"Save a copy in Drive\" to make a copy in your own Google Drive (which UCLA provides).\n",
        "*   In order to grade your work, we will need a PDF copy of this lab AND a link to the Google Colab file you used to do the lab. To give us this link, after you make your copy, share this lab by clicking Share in the top right corner, clicking \"Anyone with this link.\" Then copy the URL into the code cell below where it says \"URL for my copy of this lab:\"\n",
        "*   To turn in your lab when you're done, print this lab to PDF (go to File > Print to do this), upload to Lab 1 assignment in our course's Gradescope site, and tag all pages containing each problem. Here are [instructions for submitting a PDF to Gradescope](https://help.gradescope.com/article/ccbpppziu9-student-submit-work#submitting_a_pdf).\n",
        "\n",
        "Note: We may deduct points if you do not follow these instructions."
      ],
      "metadata": {
        "id": "m0Z6-DIXI_u0"
      }
    },
    {
      "cell_type": "code",
      "source": [
        "# Name:\n",
        "# I worked on this lab with:\n",
        "# URL for my copy of this lab:"
      ],
      "metadata": {
        "id": "zLTLBWmz8tim"
      },
      "execution_count": null,
      "outputs": []
    },
    {
      "cell_type": "markdown",
      "source": [
        "#State Variables#\n",
        "\n",
        "A **state variable represents the value of some attribute of an object in a system**. For example, a freshly brewed cup of coffee sitting on the counter is an object in a system. It has many attributes -- temperature, volume, surface area, caffeine content, etc. Each attribute could be represented by its own variable, and each variable would have a range of reasonable values it could take on. For example, caffeine content would always be positive, but the temperature could go negative if the cup were placed in a deep freezer.\n",
        "\n",
        "Let's consider the temperature of the cup of coffee, and how we would represent that in code. In Python, variables can be defined in order to store values like this. **Variables can store a large variety of things**, including single numerical values, text, and even tables of values. But let's just start with a single numerical value like the temperature of a cup of coffee.\n",
        "\n",
        "Here's a piece of code that defines a variable called ```coffee_temp``` and sets its value to 70 degrees:\n"
      ],
      "metadata": {
        "id": "0ldj06bkSmYq"
      }
    },
    {
      "cell_type": "code",
      "execution_count": null,
      "metadata": {
        "id": "8M-2t8ja7Mpe"
      },
      "outputs": [],
      "source": [
        "coffee_temp=70\n",
        "print(coffee_temp)"
      ]
    },
    {
      "cell_type": "markdown",
      "source": [
        "The line that says ```print(coffee_temp)``` just tells the computer to print out the current value of the variable, which is why you see ```70``` as the output right below the code after you run it.\n",
        "\n",
        "In our class, this is equivalent to having a state variable for temperature, which we would write as \"$T = 70$.\" We can also monitor the temperature of the coffee at different points in time, say time 1, time 2 and time 3. Say we obtain the measurements $70, 65$ and $60$ for those temperature readings. How do we represent that kind of thing in Python?\n",
        "\n",
        "Python has another way of representing values, which are called \"lists.\" The structure of lists is extremely intuitive: The structure of lists is extremely intuitive: they are literally just lists of values in brackets.  You can also think of **lists as being containers that hold multiple values at once**.\n",
        "\n",
        "A common way of using lists in our course is to **use the list to hold the value of a variable as time passes**. Consider our coffee cup above: if we have a hot cup of coffee and leave it out at room temperature, it will cool as time passes. We might represent that as a list in the following way:"
      ],
      "metadata": {
        "id": "sTVckIYF83aV"
      }
    },
    {
      "cell_type": "code",
      "source": [
        "coffee_temps=[70, 65, 60]\n",
        "print(coffee_temps)"
      ],
      "metadata": {
        "id": "4I8ORcw585P_"
      },
      "execution_count": null,
      "outputs": []
    },
    {
      "cell_type": "markdown",
      "source": [
        "<font color='green'><u><b> Exercise 1.</b></u> </font> Below, define your own state variable and give it a single value, like the first coffee_temp example above. Print out the value. The variable can represent anything you like, so long as it makes scientific sense!"
      ],
      "metadata": {
        "id": "ah7G6ULtbUTi"
      }
    },
    {
      "cell_type": "code",
      "source": [
        "# Define your state variable here. Don't forget to print it out!"
      ],
      "metadata": {
        "id": "Ze2uvLeu_1B-"
      },
      "execution_count": null,
      "outputs": []
    },
    {
      "cell_type": "markdown",
      "source": [
        "<font color='green'><u><b> Exercise 2.</b></u> </font> Now, make a list of values that state variable could take as time passes:"
      ],
      "metadata": {
        "id": "1M6_tcz__5X1"
      }
    },
    {
      "cell_type": "code",
      "source": [
        "# Use a list to give an example of how your state variable might change as time passes"
      ],
      "metadata": {
        "id": "scbbnS_y__LO"
      },
      "execution_count": null,
      "outputs": []
    },
    {
      "cell_type": "markdown",
      "source": [
        "#Modeling States as Time Passes#\n",
        "\n",
        "In the examples above, we just wrote down arbitrary values for our state variables as time passes. In this course, of course, we don't just write down the values of the variables as time passes: **we use *models* to predict how our state variables will change**.\n",
        "\n",
        "You already did some work with a couple of models last week, but in those cases, we provided the change equations for you, and all you had to do was change a few things (like the initial conditions) and see what happened. Now, we are going to work on actually writing a model in Python.\n",
        "\n",
        "In this class, we often **describe a system in words and ask you to write down the change equations for that system**. That's exactly what we will do for this problem.\n",
        "\n",
        "Consider a protein in a cell; we are going to use the state variable $P$ to represent the *concentration* of that protein. Here are the assumptions we are going to make about our protein:\n",
        "\n",
        "*   The protein is made at a constant rate $Q$.\n",
        "*   The protein is degraded at a constant per-molecule (same as per-capita) rate $\\Delta$ (*delta*).\n",
        "\n",
        "First, write down the change equation for this model on a piece of paper like you would if this were a homework or test problem.\n",
        "\n",
        "In code, of course, we can't just hand write the change equation. Below, there is a block of code that will simulate this model and plot the results. There is a part of this code where the change equations are defined. It looks like this:\n",
        "\n",
        "```\n",
        "def odes(state_values, t, Q, delta):\n",
        "  P = state_values[0]\n",
        "  Pprime=  #fill in the change equations here!\n",
        "  return [Pprime]\n",
        "```\n",
        "\n",
        "Note that, because this is code, we write `Pprime =` for our change equation for $P$, rather than using the mathematical notation $P'=$.\n",
        "\n",
        "<font color='green'><u><b> Exercise 3.</b></u> </font>  In the code below, write out the change equation for P on the appropriate line. Use \"Q\" and \"delta\" for your parameters. If you need to use the protein concentration in your equation, just use the symbol \"P.\" Important note: when writing multiplication in Python, you MUST include an asterisk (\\*). For example, $2X$ would look like ```2*X``` in Python code. Once you are done filling in the change equation, run the code to see your results!"
      ],
      "metadata": {
        "id": "L_Ke0TJH85lx"
      }
    },
    {
      "cell_type": "code",
      "source": [
        "from scipy.integrate import odeint\n",
        "import matplotlib.pyplot as plt\n",
        "import numpy as np\n",
        "\n",
        "#set up the change equation for the model\n",
        "def odes(state_values, t, Q, delta):\n",
        "  P = state_values[0] #note that the [0] is just used for getting the first value of this list!\n",
        "  Pprime=  #fill in the change equation here!\n",
        "  return [Pprime]\n",
        "\n",
        "t=np.linspace(0,100,1000) #this sets up the time values for the simulation\n",
        "sv = [20] #initial amount of protein\n",
        "Q = 10\n",
        "delta = .2\n",
        "sol=odeint(odes, sv, t, args=(Q,delta)) #simulates the model\n",
        "\n",
        "#plot simulation\n",
        "plt.plot(t, sol[:,0], color=\"blue\") #plot the protein concentration\n",
        "plt.xlabel('Time') #set an x label\n",
        "plt.ylabel('Protein') #set a y label\n",
        "plt.show() #show the plot"
      ],
      "metadata": {
        "id": "R9WWAHWyuN9D"
      },
      "execution_count": null,
      "outputs": []
    },
    {
      "cell_type": "markdown",
      "source": [
        "Below is an image that shows what the output of the above simulation should look like. If the output of your code doesn't match, check your change equation again! Once it matches, you may move on to the next question.\n",
        "\n",
        "![image_2023-06-08_024042309.png](data:image/png;base64,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)"
      ],
      "metadata": {
        "id": "8vvJ0N-j85fO"
      }
    },
    {
      "cell_type": "markdown",
      "source": [
        "<font color='green'><u><b> Exercise 4.</b></u> </font>\n",
        "Now we can try changing a parameter for the model. In the code block below, alter the parameter that controls the rate of protein synthesis, and view the result. Describe what changed in the cell below.\n",
        "\n",
        "Remember to fill the change equation in for this model as well!"
      ],
      "metadata": {
        "id": "tc196vWh-u_C"
      }
    },
    {
      "cell_type": "code",
      "source": [
        "from scipy.integrate import odeint\n",
        "import matplotlib.pyplot as plt\n",
        "import numpy as np\n",
        "\n",
        "#set up the ODES for the model\n",
        "def odes(state_values, t, Q, delta):\n",
        "  P = state_values[0] #note that the [0] is just used for getting the first value of this list!\n",
        "  Pprime=  #fill in the change equation here!\n",
        "  return [Pprime]\n",
        "\n",
        "t=np.linspace(0,100,1000) #this sets up the time values for the simulation\n",
        "sv = [20] #initial amount of protein\n",
        "\n",
        "#parameters (alter one of these!!)\n",
        "Q = 10\n",
        "delta = 0.2\n",
        "sol=odeint(odes, sv, t, args=(Q,delta)) #simulates the model\n",
        "\n",
        "#plot simulation\n",
        "plt.plot(t,sol[:,0], color=\"blue\") #plot the protein concentration\n",
        "plt.xlabel('Time') #set an x label\n",
        "plt.ylabel('Protein') #set a y label\n",
        "plt.show() #show the plot"
      ],
      "metadata": {
        "id": "bFZDu9xG-sCi"
      },
      "execution_count": null,
      "outputs": []
    },
    {
      "cell_type": "code",
      "source": [
        "# Describe your results here"
      ],
      "metadata": {
        "id": "--y7trByaJXd"
      },
      "execution_count": null,
      "outputs": []
    },
    {
      "cell_type": "markdown",
      "source": [
        "#Ecological Model: Koalas and Eucalyptus#\n",
        "Now that you have more experience with modeling, you're ready to challenge a former midterm question! Read the text below and fill the model into the simulation below. Use the same approach you did for the protein model: first write the change equations out on a piece of paper and then translate them into the code below.\n",
        "\n",
        "\n",
        "Koalas ($K$) feed exclusively on eucalyptus ($E$). Use the following\n",
        "assumptions to write a differential equation model of the food chain.\n",
        "\n",
        "*   Eucalyptus grows at a per-biomass (like per-capita) rate of 0.01.\n",
        "*   Due to shading, the per-biomass rate at which eucalyptus dies is proportional to the amount of eucalyptus with a proportionality constant of 0.02.\n",
        "* Koalas consume eucalyptus as a per-capita rate proportional to the amount of eucalyptus available, with a proportionality constant of 0.05.\n",
        "* The koala birth rate is proportional to the amount of Eucalyptus they consume, with a proportionality constant of 0.15.\n",
        "* Koalas die at a per-capita rate of 0.03.\n",
        "\n",
        "<font color='green'><u><b> Exercise 5.</b></u> </font>\n",
        "Input your change equations into the code below and simulate to see the results.  Remember, when writing multiplication in Python, you MUST include an asterisk (\\*). For example, $2X$ would look like ```2*X``` in Python code. You can do exponents with `**` (for example, $3^4$ is coded as `3**4`).\n",
        "\n"
      ],
      "metadata": {
        "id": "KxW_j0UYECIE"
      }
    },
    {
      "cell_type": "code",
      "source": [
        "from scipy.integrate import odeint\n",
        "import matplotlib.pyplot as plt\n",
        "import numpy as np\n",
        "\n",
        "#set up the ODES for the model\n",
        "def odes(state_values, t):\n",
        "  K,E = state_values\n",
        "  #fill in the change equations below!\n",
        "  Kprime =\n",
        "  Eprime =\n",
        "  return [Kprime, Eprime]\n",
        "\n",
        "t=np.linspace(0, 200, 1000) #this sets up the time values for the simulation\n",
        "sv = [10, 50] #initial values of Koala and Eucalyptus\n",
        "sol=odeint(odes, sv, t) #simulates the model\n",
        "\n",
        "#plot simulation\n",
        "plt.plot(t,sol[:,0], color=\"blue\") #plot the Koalas in blue\n",
        "plt.plot(t,sol[:,1], color=\"green\")#plot the Eucalyptus in green\n",
        "plt.xlabel('Time') #set an x label\n",
        "plt.ylabel('Population') #set a y label\n",
        "plt.show() #show the plot"
      ],
      "metadata": {
        "id": "kYCFR-Ksaa6E"
      },
      "execution_count": null,
      "outputs": []
    },
    {
      "cell_type": "markdown",
      "source": [
        "<font color='green'><u><b> Exercise 6.</b></u> </font>  In the cell below, modify the parameter relating to the Koalas' consumption of Eucalyptus to change the model's behavior. Remember to change it in multiple places, as it shows up multiple times! *Hint: If you don't see a significant enough change when you first alter the parameter, change the parameter more!*"
      ],
      "metadata": {
        "id": "WZIpYeQEuflG"
      }
    },
    {
      "cell_type": "code",
      "source": [
        "from scipy.integrate import odeint\n",
        "import matplotlib.pyplot as plt\n",
        "import numpy as np\n",
        "\n",
        "#set up the ODES for the model\n",
        "def odes(state_values, t):\n",
        "  K,E = state_values\n",
        "  #fill in the change equations below!\n",
        "  Kprime =\n",
        "  Eprime =\n",
        "  return [Kprime, Eprime]\n",
        "\n",
        "t=np.linspace(0, 200, 1000) #this sets up the time values for the simulation\n",
        "sv = [10, 50] #initial values of Koala and Eucalyptus\n",
        "sol=odeint(odes, sv, t) #simulates the model\n",
        "\n",
        "#plot simulation\n",
        "plt.plot(t,sol[:,0], color=\"blue\") #plot the Koalas in blue\n",
        "plt.plot(t,sol[:,1], color=\"green\")#plot the Eucalyptus in green\n",
        "plt.xlabel('Time') #set an x label\n",
        "plt.ylabel('Population') #set a y label\n",
        "plt.show() #show the plot"
      ],
      "metadata": {
        "id": "YTkYqVHXDU_f"
      },
      "execution_count": null,
      "outputs": []
    },
    {
      "cell_type": "markdown",
      "source": [
        "<font color='green'><u><b> Exercise 7.</b></u> </font> Describe what happened when you changed the parameter."
      ],
      "metadata": {
        "id": "h5oqI9-_DGxG"
      }
    },
    {
      "cell_type": "code",
      "source": [
        "# Describe the model's behavioral change here!"
      ],
      "metadata": {
        "id": "Bi9wHjcEDJfO"
      },
      "execution_count": null,
      "outputs": []
    },
    {
      "cell_type": "code",
      "source": [
        "### Convert lab file to pdf - pdf will be printed next to your lab file in Google Drive! ###\n",
        "from google.colab \\\n",
        "import drive\n",
        "import os, glob\n",
        "from requests import get\n",
        "!pip install nbconvert\n",
        "\n",
        "my_name = get(\"http://172.28.0.12:9000/api/sessions\").json()[0][\"name\"]\n",
        "drive.mount(\"/content/drive\")\n",
        "\n",
        "drive.mount(os.getcwd() + '/drive')\n",
        "my_path = glob.glob(os.getcwd() + '/**/' +\n",
        "my_name, recursive = True)\n",
        "\n",
        "my_path = [my_i\n",
        "for my_i in my_path if len(my_i) in [max([len(my_i)\n",
        "for my_i in my_path])]\n",
        "][0];\n",
        "my_path = my_path[0:-len(my_name)]\n",
        "\n",
        "%cd -q $my_path\n",
        "\n",
        "!jupyter nbconvert my_name --to pdf"
      ],
      "metadata": {
        "colab": {
          "base_uri": "https://localhost:8080/"
        },
        "id": "3nOiyjTyglwY",
        "outputId": "05ed5386-4d67-43d4-b9b4-3d1fa8e704a0"
      },
      "execution_count": null,
      "outputs": [
        {
          "output_type": "stream",
          "name": "stdout",
          "text": [
            "Requirement already satisfied: nbconvert in /usr/local/lib/python3.10/dist-packages (6.5.4)\n",
            "Requirement already satisfied: lxml in /usr/local/lib/python3.10/dist-packages (from nbconvert) (4.9.4)\n",
            "Requirement already satisfied: beautifulsoup4 in /usr/local/lib/python3.10/dist-packages (from nbconvert) (4.12.3)\n",
            "Requirement already satisfied: bleach in /usr/local/lib/python3.10/dist-packages (from nbconvert) (6.1.0)\n",
            "Requirement already satisfied: defusedxml in /usr/local/lib/python3.10/dist-packages (from nbconvert) (0.7.1)\n",
            "Requirement already satisfied: entrypoints>=0.2.2 in /usr/local/lib/python3.10/dist-packages (from nbconvert) (0.4)\n",
            "Requirement already satisfied: jinja2>=3.0 in /usr/local/lib/python3.10/dist-packages (from nbconvert) (3.1.4)\n",
            "Requirement already satisfied: jupyter-core>=4.7 in /usr/local/lib/python3.10/dist-packages (from nbconvert) (5.7.2)\n",
            "Requirement already satisfied: jupyterlab-pygments in /usr/local/lib/python3.10/dist-packages (from nbconvert) (0.3.0)\n",
            "Requirement already satisfied: MarkupSafe>=2.0 in /usr/local/lib/python3.10/dist-packages (from nbconvert) (2.1.5)\n",
            "Requirement already satisfied: mistune<2,>=0.8.1 in /usr/local/lib/python3.10/dist-packages (from nbconvert) (0.8.4)\n",
            "Requirement already satisfied: nbclient>=0.5.0 in /usr/local/lib/python3.10/dist-packages (from nbconvert) (0.10.0)\n",
            "Requirement already satisfied: nbformat>=5.1 in /usr/local/lib/python3.10/dist-packages (from nbconvert) (5.10.4)\n",
            "Requirement already satisfied: packaging in /usr/local/lib/python3.10/dist-packages (from nbconvert) (24.1)\n",
            "Requirement already satisfied: pandocfilters>=1.4.1 in /usr/local/lib/python3.10/dist-packages (from nbconvert) (1.5.1)\n",
            "Requirement already satisfied: pygments>=2.4.1 in /usr/local/lib/python3.10/dist-packages (from nbconvert) (2.16.1)\n",
            "Requirement already satisfied: tinycss2 in /usr/local/lib/python3.10/dist-packages (from nbconvert) (1.3.0)\n",
            "Requirement already satisfied: traitlets>=5.0 in /usr/local/lib/python3.10/dist-packages (from nbconvert) (5.7.1)\n",
            "Requirement already satisfied: platformdirs>=2.5 in /usr/local/lib/python3.10/dist-packages (from jupyter-core>=4.7->nbconvert) (4.2.2)\n",
            "Requirement already satisfied: jupyter-client>=6.1.12 in /usr/local/lib/python3.10/dist-packages (from nbclient>=0.5.0->nbconvert) (6.1.12)\n",
            "Requirement already satisfied: fastjsonschema>=2.15 in /usr/local/lib/python3.10/dist-packages (from nbformat>=5.1->nbconvert) (2.20.0)\n",
            "Requirement already satisfied: jsonschema>=2.6 in /usr/local/lib/python3.10/dist-packages (from nbformat>=5.1->nbconvert) (4.19.2)\n",
            "Requirement already satisfied: soupsieve>1.2 in /usr/local/lib/python3.10/dist-packages (from beautifulsoup4->nbconvert) (2.5)\n",
            "Requirement already satisfied: six>=1.9.0 in /usr/local/lib/python3.10/dist-packages (from bleach->nbconvert) (1.16.0)\n",
            "Requirement already satisfied: webencodings in /usr/local/lib/python3.10/dist-packages (from bleach->nbconvert) (0.5.1)\n",
            "Requirement already satisfied: attrs>=22.2.0 in /usr/local/lib/python3.10/dist-packages (from jsonschema>=2.6->nbformat>=5.1->nbconvert) (23.2.0)\n",
            "Requirement already satisfied: jsonschema-specifications>=2023.03.6 in /usr/local/lib/python3.10/dist-packages (from jsonschema>=2.6->nbformat>=5.1->nbconvert) (2023.12.1)\n",
            "Requirement already satisfied: referencing>=0.28.4 in /usr/local/lib/python3.10/dist-packages (from jsonschema>=2.6->nbformat>=5.1->nbconvert) (0.35.1)\n",
            "Requirement already satisfied: rpds-py>=0.7.1 in /usr/local/lib/python3.10/dist-packages (from jsonschema>=2.6->nbformat>=5.1->nbconvert) (0.18.1)\n",
            "Requirement already satisfied: pyzmq>=13 in /usr/local/lib/python3.10/dist-packages (from jupyter-client>=6.1.12->nbclient>=0.5.0->nbconvert) (24.0.1)\n",
            "Requirement already satisfied: python-dateutil>=2.1 in /usr/local/lib/python3.10/dist-packages (from jupyter-client>=6.1.12->nbclient>=0.5.0->nbconvert) (2.8.2)\n",
            "Requirement already satisfied: tornado>=4.1 in /usr/local/lib/python3.10/dist-packages (from jupyter-client>=6.1.12->nbclient>=0.5.0->nbconvert) (6.3.3)\n",
            "Mounted at /content/drive\n",
            "Drive already mounted at /content/drive; to attempt to forcibly remount, call drive.mount(\"/content/drive\", force_remount=True).\n"
          ]
        }
      ]
    },
    {
      "cell_type": "markdown",
      "source": [
        "#To Submit: PDF Converters for Submission:#\n",
        "\n",
        "Note: Make sure you save file first using File menu, convert to PDF using one of the converters below, and check your PDF (including that URL is shared!) before you upload to Gradescope and tag all pages containing each exercise. The PDF should include all text, code, and graphs you generated, but it's okay if it's missing graphs we provided. If the PDF is incorrect, try 2nd converter at bottom."
      ],
      "metadata": {
        "id": "C4vaBRuG5T3e"
      }
    },
    {
      "cell_type": "code",
      "source": [
        "# @title Converter #1 - will download automatically {display-mode:'form'}\n",
        "from google.colab import auth\n",
        "from google.auth import default\n",
        "from googleapiclient.discovery import build\n",
        "from googleapiclient.http import MediaIoBaseDownload\n",
        "from requests import get\n",
        "from socket import gethostname, gethostbyname\n",
        "import subprocess\n",
        "from google.colab import files\n",
        "from urllib.parse import unquote\n",
        "import io\n",
        "import requests\n",
        "import json\n",
        "\n",
        "output_format = 'pdf'  # Change to 'html', 'markdown', 'latex', 'script', or 'slides' as needed\n",
        "ip = gethostbyname(gethostname())\n",
        "response = get(f\"http://{ip}:9000/api/sessions\").json()\n",
        "\n",
        "file_id = response[0]['notebook']['path'].split('fileId=')[1]\n",
        "notebook_name = unquote(response[0]['notebook']['name'])\n",
        "notebook_path = f'/content/{notebook_name}.ipynb' if not notebook_name.endswith(\".ipynb\") else f'/content/{notebook_name}'\n",
        "print(f\"File ID: {file_id}\")\n",
        "print(f\"Notebook Name: {notebook_name}\")\n",
        "\n",
        "def save_notebook_as_ipynb(file_id, path='notebook.ipynb', authenticated=False):\n",
        "     if not authenticated:\n",
        "         download_url = f\"https://drive.google.com/uc?export=download&id={file_id}\"\n",
        "\n",
        "         response = requests.get(download_url)\n",
        "         if response.status_code == 200:\n",
        "             with open(path, 'wb') as f:\n",
        "                 f.write(response.content)\n",
        "             try:\n",
        "                 with open(path, 'r') as f:\n",
        "                     json.load(f)\n",
        "                 print(f\"Notebook saved as {path}\")\n",
        "                 return True\n",
        "             except json.JSONDecodeError:\n",
        "                 print(\"Downloaded file is not a valid JSON. Authentication may be required.\")\n",
        "                 return False\n",
        "         else:\n",
        "             print(\"Failed to download the notebook.\")\n",
        "             return False\n",
        "     else:\n",
        "         auth.authenticate_user()\n",
        "         creds, _ = default()\n",
        "         drive_service = build('drive', 'v3', credentials=creds)\n",
        "         request = drive_service.files().get_media(fileId=file_id)\n",
        "         fh = io.FileIO(path, 'wb')\n",
        "         downloader = MediaIoBaseDownload(fh, request)\n",
        "         done = False\n",
        "         while done is False:\n",
        "             status, done = downloader.next_chunk()\n",
        "             print(f\"Download {int(status.progress() * 100)}%.\")\n",
        "\n",
        "         print(f\"Notebook saved as {path}\")\n",
        "         return True\n",
        "\n",
        "def convert_notebook(output_format):\n",
        "     print(f\"Converting notebook to {output_format}...\")\n",
        "     result = subprocess.run(\n",
        "         [\"jupyter\", \"nbconvert\", f\"--to\", output_format, notebook_path],\n",
        "         capture_output=True, text=True)\n",
        "\n",
        "     if result.returncode == 0:\n",
        "         print(f\"Notebook converted to {output_format} successfully.\")\n",
        "         return notebook_path.replace('.ipynb', f'.{output_format}')\n",
        "     else:\n",
        "         print(f\"Error converting notebook to {output_format}: {result.stderr}\")\n",
        "         return None\n",
        "\n",
        "if not save_notebook_as_ipynb(file_id, notebook_path):\n",
        "     print(\"Access denied or invalid file. Trying authenticated download...\")\n",
        "     if save_notebook_as_ipynb(file_id, notebook_path, authenticated=True):\n",
        "         print(\"Downloading dependecies...\")\n",
        "         subprocess.run(['pip', 'install', '-q', 'nbconvert'])\n",
        "         if output_format == 'pdf':\n",
        "             subprocess.run(['apt-get', 'install', '-y', '-qq', 'texlive-xetex', 'texlive-fonts-recommended', 'texlive-plain-generic'])\n",
        "\n",
        "         converted_path = convert_notebook(output_format)\n",
        "\n",
        "         if converted_path:\n",
        "             print(f\"Notebook saved as {converted_path}\")\n",
        "             files.download(converted_path)\n",
        "         else:\n",
        "             print(f\"Failed to convert notebook to {output_format} after authentication.\")\n",
        "else:\n",
        "    print(\"Downloading dependecies...\")\n",
        "    subprocess.run(['pip', 'install', '-q', 'nbconvert'])\n",
        "    if output_format == 'pdf':\n",
        "        subprocess.run(['apt-get', 'install', '-y', '-qq', 'texlive-xetex','texlive-fonts-recommended', 'texlive-plain-generic'])\n",
        "\n",
        "    converted_path = convert_notebook(output_format)\n",
        "\n",
        "    if converted_path:\n",
        "      print(f\"Notebook saved as {converted_path}\")\n",
        "      files.download(converted_path)\n",
        "    else:\n",
        "       print(f\"Failed to convert notebook to {output_format}.\")"
      ],
      "metadata": {
        "id": "ewvj2Su95YSl"
      },
      "execution_count": null,
      "outputs": []
    },
    {
      "cell_type": "code",
      "source": [
        "def colab2pdf():\n",
        "    # Colab2PDF by Drengskapur (https://github.com/drengskapur/colab2pdf)\n",
        "    # @title Converter #2 - you need to click Download when complete\n",
        "    # VERSION 1.4\n",
        "    # LICENSE: GPL-3.0-or-later\n",
        "    !apt-get install -yqq --no-install-recommends librsvg2-bin>/dev/null\n",
        "    import contextlib,datetime,google,io,IPython,ipywidgets,json,locale,nbformat,os,pathlib,requests,urllib,warnings,werkzeug,yaml;locale.setlocale(locale.LC_ALL,'en_US.UTF-8')\n",
        "    def convert(b):\n",
        "        try:\n",
        "            s.value='⚙️ Converting...';b.disabled=True;get_ipython().events.register('post_execute',lambda:IPython.display.display(IPython.display.Javascript('document.querySelectorAll(\"#output-footer\").forEach(footer=>footer.remove());')))\n",
        "            n=pathlib.Path(werkzeug.utils.secure_filename(urllib.parse.unquote(requests.get(f'http://{os.environ[\"COLAB_JUPYTER_IP\"]}:{os.environ[\"KMP_TARGET_PORT\"]}/api/sessions').json()[0]['name'])))\n",
        "            p=pathlib.Path('/content/pdfs')/f'{datetime.datetime.now().strftime(\"%Y%m%d_%H%M%S\")}_{n.stem}';p.mkdir(parents=True,exist_ok=True);warnings.filterwarnings('ignore',category=nbformat.validator.MissingIDFieldWarning)\n",
        "            nb=[cell for cell in nbformat.reads(json.dumps(google.colab._message.blocking_request('get_ipynb',timeout_sec=600)['ipynb']),as_version=4).cells if '--Colab2PDF' not in cell.source]\n",
        "            with (p/f'{n.stem}.ipynb').open('w',encoding='utf-8') as cp:nbformat.write(nbformat.v4.new_notebook(cells=nb or [nbformat.v4.new_code_cell('#')]),cp)\n",
        "            with (p/'config.yml').open('w',encoding='utf-8') as f:yaml.dump({'include-in-header':[{'text':r'\\usepackage{fvextra}\\DefineVerbatimEnvironment{Highlighting}{Verbatim}{breaksymbolleft={},showspaces=false,showtabs=false,breaklines,breakanywhere,commandchars=\\\\\\{\\}}'}],'include-before-body':[{'text':r'\\DefineVerbatimEnvironment{verbatim}{Verbatim}{breaksymbolleft={},showspaces=false,showtabs=false,breaklines}'}]},f)\n",
        "            !quarto render {p}/{n.stem}.ipynb --metadata-file={p}/config.yml --to pdf -M latex-auto-install -M margin-top=1in -M margin-bottom=1in -M margin-left=1in -M margin-right=1in --quiet\n",
        "            google.colab.files.download(str(p/f'{n.stem}.pdf'));s.value=f'🎉 Downloaded {n.stem}.pdf'\n",
        "        except Exception as e:\n",
        "            s.value=f'⚠️ ERROR {str(e)}'\n",
        "        finally:\n",
        "            b.disabled=False\n",
        "    if not pathlib.Path('/usr/local/bin/quarto').exists():\n",
        "        !wget -q 'https://quarto.org/download/latest/quarto-linux-amd64.deb' && dpkg -i quarto-linux-amd64.deb>/dev/null && quarto install tinytex --update-path --quiet && rm quarto-linux-amd64.deb\n",
        "    b=ipywidgets.widgets.Button(description='⬇️ Download PDF');s=ipywidgets.widgets.Label();b.on_click(lambda b:convert(b));IPython.display.display(ipywidgets.widgets.HBox([b,s]))\n",
        "    IPython.display.display(IPython.display.Javascript('document.currentScript.parentElement.closest(\".output_subarea\").querySelector(\"#output-footer > input\").remove();'))\n",
        "colab2pdf()"
      ],
      "metadata": {
        "id": "3hsoCqh2FKMW",
        "cellView": "form"
      },
      "execution_count": null,
      "outputs": []
    }
  ]
}